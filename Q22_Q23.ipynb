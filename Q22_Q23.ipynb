{
  "nbformat": 4,
  "nbformat_minor": 0,
  "metadata": {
    "colab": {
      "name": "Q22_Q23.ipynb",
      "provenance": [],
      "authorship_tag": "ABX9TyN3gl+4Pv4N5jgdw/7QQgDU",
      "include_colab_link": true
    },
    "kernelspec": {
      "name": "python3",
      "display_name": "Python 3"
    },
    "language_info": {
      "name": "python"
    }
  },
  "cells": [
    {
      "cell_type": "markdown",
      "metadata": {
        "id": "view-in-github",
        "colab_type": "text"
      },
      "source": [
        "<a href=\"https://colab.research.google.com/github/revati2013/Assignment_1/blob/main/Q22_Q23.ipynb\" target=\"_parent\"><img src=\"https://colab.research.google.com/assets/colab-badge.svg\" alt=\"Open In Colab\"/></a>"
      ]
    },
    {
      "cell_type": "markdown",
      "metadata": {
        "id": "iFShVzUG-ck3"
      },
      "source": [
        "Q22. Calculate the Z scores of  90% confidence interval,94% confidence interval, 60% confidence interval \n"
      ]
    },
    {
      "cell_type": "code",
      "metadata": {
        "id": "X-KUXF5D57Q0"
      },
      "source": [
        "from scipy import stats\n",
        "from scipy.stats import norm"
      ],
      "execution_count": 2,
      "outputs": []
    },
    {
      "cell_type": "code",
      "metadata": {
        "colab": {
          "base_uri": "https://localhost:8080/"
        },
        "id": "d6pmIyBD7J7z",
        "outputId": "64fb7843-3d15-400a-fb15-8f0179f56f3a"
      },
      "source": [
        "#z-score of 90% confidence interval\n",
        "stats.norm.ppf(0.95)"
      ],
      "execution_count": 3,
      "outputs": [
        {
          "output_type": "execute_result",
          "data": {
            "text/plain": [
              "1.6448536269514722"
            ]
          },
          "metadata": {},
          "execution_count": 3
        }
      ]
    },
    {
      "cell_type": "code",
      "metadata": {
        "colab": {
          "base_uri": "https://localhost:8080/"
        },
        "id": "Z_qIzDcp7sZR",
        "outputId": "5549b97c-9d50-4125-a8fc-f0e44ce26504"
      },
      "source": [
        "#z-score of 94% confidence interval\n",
        "stats.norm.ppf(.97)"
      ],
      "execution_count": 4,
      "outputs": [
        {
          "output_type": "execute_result",
          "data": {
            "text/plain": [
              "1.8807936081512509"
            ]
          },
          "metadata": {},
          "execution_count": 4
        }
      ]
    },
    {
      "cell_type": "code",
      "metadata": {
        "colab": {
          "base_uri": "https://localhost:8080/"
        },
        "id": "e9Gtzdeb71IV",
        "outputId": "d8dfab92-aa15-4674-8afc-741336fa12e0"
      },
      "source": [
        "#z-score of 60% confidence interval\n",
        "stats.norm.ppf(.80)"
      ],
      "execution_count": 5,
      "outputs": [
        {
          "output_type": "execute_result",
          "data": {
            "text/plain": [
              "0.8416212335729143"
            ]
          },
          "metadata": {},
          "execution_count": 5
        }
      ]
    },
    {
      "cell_type": "code",
      "metadata": {
        "id": "9ivCt0Mw7-XH"
      },
      "source": [
        ""
      ],
      "execution_count": null,
      "outputs": []
    },
    {
      "cell_type": "markdown",
      "metadata": {
        "id": "TnHqt345-hRu"
      },
      "source": [
        "Q23.Calculate the t scores of 95% confidence interval, 96% confidence interval, 99% confidence interval for sample size of 25"
      ]
    },
    {
      "cell_type": "code",
      "metadata": {
        "colab": {
          "base_uri": "https://localhost:8080/"
        },
        "id": "L3vDTlKF-iw2",
        "outputId": "2fb1f7e4-02b5-425e-bf1c-89c83d322f25"
      },
      "source": [
        "#T-score of 95% confidence interval\n",
        "stats.t.ppf(0.975,df=24)"
      ],
      "execution_count": 9,
      "outputs": [
        {
          "output_type": "execute_result",
          "data": {
            "text/plain": [
              "2.0638985616280205"
            ]
          },
          "metadata": {},
          "execution_count": 9
        }
      ]
    },
    {
      "cell_type": "code",
      "metadata": {
        "colab": {
          "base_uri": "https://localhost:8080/"
        },
        "id": "DGW7BAon_CL6",
        "outputId": "1218ce88-87c4-4551-ba06-5b5f5e202c55"
      },
      "source": [
        "#T-score of 96% confidence interval\n",
        "stats.t.ppf(0.98,df=24)"
      ],
      "execution_count": 10,
      "outputs": [
        {
          "output_type": "execute_result",
          "data": {
            "text/plain": [
              "2.1715446760080677"
            ]
          },
          "metadata": {},
          "execution_count": 10
        }
      ]
    },
    {
      "cell_type": "code",
      "metadata": {
        "colab": {
          "base_uri": "https://localhost:8080/"
        },
        "id": "Kns2YPO5_KJf",
        "outputId": "8cd43970-11a3-469d-edb6-1f48ed33a329"
      },
      "source": [
        "#T-score of 99% confidence interval\n",
        "stats.t.ppf(0.995,df=24)"
      ],
      "execution_count": 11,
      "outputs": [
        {
          "output_type": "execute_result",
          "data": {
            "text/plain": [
              "2.796939504772804"
            ]
          },
          "metadata": {},
          "execution_count": 11
        }
      ]
    },
    {
      "cell_type": "code",
      "metadata": {
        "id": "8YR8pyw3_RNg"
      },
      "source": [
        ""
      ],
      "execution_count": null,
      "outputs": []
    }
  ]
}